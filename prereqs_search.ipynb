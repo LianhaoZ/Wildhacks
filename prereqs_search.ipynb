{
  "cells": [
    {
      "cell_type": "markdown",
      "metadata": {
        "id": "ejkQFK6ybDEV"
      },
      "source": [
        "# Core Classes"
      ]
    },
    {
      "cell_type": "code",
      "execution_count": null,
      "metadata": {
        "id": "bnPO94YebNrI"
      },
      "outputs": [],
      "source": [
        "from enum import IntEnum\n",
        "class ConnectionType(IntEnum):\n",
        "  NoConnection = 0\n",
        "  Or = 1\n",
        "  And = 2"
      ]
    },
    {
      "cell_type": "code",
      "execution_count": null,
      "metadata": {
        "id": "0ui9r4lwbOcW"
      },
      "outputs": [],
      "source": [
        "from typing import List\n",
        "\n",
        "class CourseNode:\n",
        "  def __init__(self, type : ConnectionType, prerequisites : List[CourseNode]):\n",
        "    self.type = type\n",
        "    self.prerequisites = prerequisites\n",
        "\n",
        "  def GetType(self):\n",
        "    return self.type\n",
        "\n",
        "  def GetPrerequisites(self):\n",
        "    return self.prerequisites\n",
        "\n",
        "  def IsEndpoint():\n",
        "    s"
      ]
    },
    {
      "cell_type": "markdown",
      "metadata": {
        "id": "KXAVyIXcWeda"
      },
      "source": [
        "# Data scrapping (Andre)"
      ]
    },
    {
      "cell_type": "code",
      "execution_count": null,
      "metadata": {
        "colab": {
          "base_uri": "https://localhost:8080/"
        },
        "id": "OTQxkxMMWbFx",
        "outputId": "67ce587e-790f-4d3b-ce40-6797cb977923"
      },
      "outputs": [
        {
          "name": "stdout",
          "output_type": "stream",
          "text": [
            "----------------------------------------\n",
            "['2022-2023', 'Edition']\n",
            "----------------------------------------\n",
            "['COMP_SCI', '101-0', 'Computer', 'Science:', 'Concepts,', 'Philosophy,', 'and', 'Connections', '(1', 'Unit)', 'General', 'introduction', 'to', 'historical', 'and', 'current', 'intellectual', 'questions', 'in', 'computer', 'science.', 'Theory,', 'systems,', 'artificial', 'intelligence,', 'interfaces,', 'software', 'development,', 'and', 'interactions', 'with', 'business,', 'politics,', 'law,', 'medicine,', 'engineering,', 'and', 'other', 'sciences.', 'Social', 'Behavioral', 'Sciences', 'Distro', 'Area']\n",
            "----------------------------------------\n",
            "['COMP_SCI', '110-0', 'Introduction', 'to', 'Computer', 'Programming', '(1', 'Unit)', 'Introduction', 'to', 'programming', 'practice', 'using', 'a', 'modern', 'programming', 'language.', 'Analysis', 'and', 'formulation', 'of', 'problems', 'for', 'computer', 'solution.', 'Systematic', 'design,', 'construction,', 'and', 'testing', 'of', 'programs.', 'Substantial', 'programming', 'assignments.', 'Not', 'to', 'be', 'taken', 'for', 'credit', 'with', 'or', 'after', 'COMP_SCI', '111-0.', 'Formal', 'Studies', 'Distro', 'Area']\n",
            "----------------------------------------\n",
            "['COMP_SCI', '111-0', 'Fundamentals', 'of', 'Computer', 'Programming', '(1', 'Unit)', 'Fundamental', 'concepts', 'of', 'computer', 'programming', 'with', 'heavy', 'emphasis', 'on', 'design', 'of', 'recursive', 'algorithms', 'and', 'test-driven', 'development.', 'Functional,', 'imperative,', 'and', 'object-oriented', 'programming', 'paradigms.', 'Procedural', 'abstraction,', 'data', 'abstraction,', 'and', 'modularity.', 'Required', 'for', 'the', 'computer', 'science', 'degree.', 'Formal', 'Studies', 'Distro', 'Area']\n",
            "----------------------------------------\n",
            "['COMP_SCI', '130-0', 'Tools', 'and', 'Technology', 'of', 'the', 'World-Wide', 'Web', '(1', 'Unit)', 'Introduction', 'to', 'the', 'theory', 'and', 'practice', 'of', 'developing', 'sites', 'on', 'and', 'technology', 'for', 'the', 'web.', 'Basics', 'of', 'HTML,', 'JavaScript,', 'ASP,', 'and', 'CGI', 'programming.']\n",
            "----------------------------------------\n",
            "['COMP_SCI', '150-0', 'Fundamentals', 'of', 'Computer', 'Programming', '1.5', '(1', 'Unit)', 'An', 'introduction', 'to', 'Object-oriented', 'programming:', 'focus', 'on', 'Python', 'but', 'including', 'a', 'brief', 'introduction', 'to', 'a', 'statically', 'typed', 'language', '(e.g.', 'C++).', 'Students', 'will', 'use', 'some', 'approaches', 'from', 'Artificial', 'Intelligence', 'and', 'Machine', 'Learning', 'to', 'complete', 'programming', 'assignments.', 'Required', 'for', 'the', 'computer', 'science', 'degree.', 'Prerequisite:', 'COMP_SCI', '110-0', 'or', 'COMP_SCI', '111-0', 'or', 'GEN_ENG', '205-1', 'or', 'GEN_ENG', '206-1.']\n",
            "----------------------------------------\n",
            "['COMP_SCI', '211-0', 'Fundamentals', 'of', 'Computer', 'Programming', 'II', '(1', 'Unit)', 'Programming', 'in', 'statically-typed', 'imperative', 'languages.', 'The', 'von', 'Neuman', 'machine', 'model:', 'pointers,', 'address', 'manipulation,', 'and', 'manual', 'memory', 'management.', 'Object-oriented', 'programming', 'and', 'design.', 'The', 'C/C++', 'language', 'family.', 'Required', 'for', 'the', 'computer', 'science', 'degree.', 'Not', 'to', 'be', 'taken', 'for', 'credit', 'with', 'COMP_SCI', '230-0.', 'Prerequisite:', 'COMP_SCI', '111-0', 'or', 'COMP_SCI', '150-0.']\n",
            "----------------------------------------\n",
            "['COMP_SCI', '212-0', 'Mathematical', 'Foundations', 'of', 'Comp', 'Science', '(1', 'Unit)', 'Basic', 'concepts', 'of', 'finite', 'and', 'structural', 'mathematics.', 'Sets,', 'axiomatic', 'systems,', 'the', 'propositional', 'and', 'predicate', 'calculi,', 'and', 'graph', 'theory.', 'Application', 'to', 'computer', 'science:', 'sequential', 'machines,', 'formal', 'grammars,', 'and', 'software', 'design.', 'Prerequisite:', '(EECS', '110', 'or', 'EECS', '111)', 'and', 'Math', '228-1', 'or', '230-0.']\n",
            "----------------------------------------\n",
            "['COMP_SCI', '213-0', 'Introduction', 'to', 'Computer', 'Systems', '(1', 'Unit)', 'The', 'hierarchy', 'of', 'abstractions', 'and', 'implementations', 'that', 'make', 'up', 'a', 'modern', 'computer', 'system;', 'demystifying', 'the', 'machine', 'and', 'the', 'tools', 'used', 'to', 'program', 'it;', 'systems', 'programming', 'in', 'C', 'in', 'the', 'UNIX', 'environment.', 'Preparation', 'for', 'upper-level', 'systems', 'courses.', 'Prerequisite:', 'COMP_SCI', '211-0.']\n",
            "----------------------------------------\n",
            "['COMP_SCI', '214-0', 'Data', 'Structures', '&', 'Algorithms', '(1', 'Unit)', 'Design,', 'implementation,', 'and', 'performance', 'analysis', 'of', 'abstract', 'data', 'types;', 'data', 'structures', 'and', 'their', 'algorithms.', 'Topics', 'include', 'fundamental', 'collection', 'classes,', 'tree', 'and', 'graph', 'representations', 'and', 'walks,', 'search', 'trees,', 'sorting,', 'priority', 'queues', 'and', 'heaps,', 'least-cost', 'paths', 'computations,', 'and', 'disjoint-set', 'structures.', 'Required', 'for', 'the', 'computer', 'science', 'degree.', 'Prerequisite:', 'COMP_SCI', '111', 'and', '(COMP_SCI', '150', 'or', 'COMP_SCI', '211).']\n",
            "----------------------------------------\n",
            "['COMP_SCI', '217-0', 'Data', 'Management', '&', 'Information', 'Processing', '(1', 'Unit)', 'This', 'class', 'offers', 'a', 'hands-on', 'introduction', 'to', 'data', 'representation,', 'data', 'modelling,', 'and', 'the', 'SQL', 'language', 'for', 'accessing', 'and', 'analyzing', 'data', 'in', 'relational', 'databases.', 'Students', 'access', 'and', 'analyze', 'data', 'in', 'real-world', 'large-scale', 'databases', 'from', 'the', 'public', 'domain.', 'Not', 'for', 'computer', 'science', 'or', 'computer', 'engineering', 'degree', 'candidates.', 'Prerequisite:', 'COMP_SCI', '110-0', 'or', 'COMP_SCI', '111-0', 'or', 'COMP_SCI', '150-0', 'or', 'COMP_SCI', '211-0', 'or', 'consent', 'of', 'instructor.']\n",
            "----------------------------------------\n",
            "['COMP_SCI', '295-0', 'Special', 'Topics', 'in', 'Computer', 'Science', '(1', 'Unit)', 'Topics', 'suggested', 'by', 'students', 'or', 'faculty', 'and', 'approved', 'by', 'the', 'department.']\n",
            "----------------------------------------\n",
            "['COMP_SCI', '301-0', 'Introduction', 'to', 'Robotics', 'Laboratory', '(1', 'Unit)', 'Lab-based', 'introduction', 'to', 'robotics,', 'focusing', 'on', 'hardware', '(sensors/', 'actuators)', 'and', 'software', '(sensor', 'processing/behavior', 'development);', 'motion', 'control', 'and', 'planning;', 'artificial', 'intelligence;', 'machine', 'learning.', 'Not', 'open', 'to', 'graduate', 'students', 'except', 'by', 'consent', 'of', 'instructor.', 'Prerequisite:', 'COMP_SCI', '110-0,', 'COMP_SCI', '111-0,', 'or', 'consent', 'of', 'instructor.']\n",
            "----------------------------------------\n",
            "['COMP_SCI', '310-0', 'Scalable', 'Software', 'Architectures', '(1', 'Unit)']\n",
            "----------------------------------------\n",
            "['Teaches', 'software', 'design', 'principles', 'for', 'building', 'high-scale', 'Internet', 'services.', 'Focuses', 'on', 'challenges', 'arising', 'when', 'assembling', 'software', 'services', 'that', 'run', 'on', 'many', 'machines', 'in', 'parallel', 'and', 'which', 'require', 'the', 'coordination', 'of', 'multiple', 'software', 'applications.']\n",
            "----------------------------------------\n",
            "['Prerequisites:', 'COMP_SCI', '213-0,', 'COMP_SCI', '214-0.']\n",
            "----------------------------------------\n",
            "['COMP_SCI', '311-0', 'Inclusive', 'Making', '(1', 'Unit)']\n",
            "----------------------------------------\n",
            "['Inclusive', 'Making', 'is', 'about', 'centering', 'disability', 'within', 'computer', 'science.', 'The', 'class', 'explores', 'the', 'promises', 'and', 'shortcomings', 'of', 'making', 'through', 'a', 'critical', 'disability', 'studies', 'lens.', 'It', 'also', 'looks', 'at', 'existing', 'making', 'practices', 'within', 'disability', 'communities.', 'Throughout', 'the', 'class,', 'students', 'reflect', 'on', 'their', 'assumptions', 'about', 'disability', 'and', 'computer', 'science,', 'and', 'wrestle', 'with', 'tensions', 'related', 'to', 'making', 'and', 'accessibility', 'alongside', 'community', 'organizations.']\n",
            "----------------------------------------\n",
            "['COMP_SCI', '313-0', 'Tangible', 'Interaction', 'Design', 'and', 'Learning', '(1', 'Unit)', 'The', 'use', 'of', 'tangible', 'interaction', 'to', 'create', 'innovative', 'learning', 'experiences,', 'including', 'distributed', 'cognition,', 'embodied', 'interaction,', 'cultural', 'forms,', 'and', 'design', 'frameworks.', 'Prerequisite:', 'COMP_SCI', '110-0.']\n",
            "----------------------------------------\n",
            "['COMP_SCI', '314-0', 'Technology', 'and', 'Human', 'Interaction', '(1', 'Unit)']\n",
            "----------------------------------------\n",
            "['Understanding', 'human', 'interactions', 'that', 'occur', 'both', 'with', 'and', 'through', 'technology;', 'design,', 'creation,', 'and', 'evaluation', 'of', 'technologies', 'to', 'support', 'such', 'interactions.']\n",
            "----------------------------------------\n",
            "['COMP_SCI', '315-0', 'Design,', 'Technology,', 'and', 'Research', '(1', 'Unit)']\n",
            "----------------------------------------\n",
            "['Hands-on', 'experience', 'in', 'the', 'research', 'learning', 'environment.', 'Students', 'lead', 'research', 'projects', 'in', 'social', 'and', 'crowd', 'computing,', 'cyber-learning,', 'human-computer', 'interaction,', 'and', 'artificial', 'intelligence.']\n",
            "----------------------------------------\n",
            "['Prerequisite:', 'consent', 'of', 'instructor', '(by', 'application', 'only).']\n",
            "----------------------------------------\n",
            "['COMP_SCI', '321-0', 'Programming', 'Languages', '(1', 'Unit)']\n",
            "----------------------------------------\n",
            "['Introduction', 'to', 'key', 'parts', 'of', 'programming', 'languages:', 'syntax,', 'semantics,', 'and', 'pragmatics.', 'Implementation', 'of', 'a', 'series', 'of', 'interpreters', 'that', 'show', 'how', 'various', 'aspects', 'of', 'programming', 'languages', 'behave.']\n",
            "----------------------------------------\n",
            "['Prerequisites:', 'COMP_SCI', '111', 'and,', 'COMP_SCI', '211,', 'and', 'COMP_SCI', '214', 'or', 'Graduate', 'standing.']\n",
            "----------------------------------------\n",
            "['COMP_SCI', '322-0', 'Compiler', 'Construction', '(1', 'Unit)']\n",
            "----------------------------------------\n",
            "['The', 'compiler', 'is', 'the', \"programmer's\", 'primary', 'tool.', 'Understanding', 'the', 'compiler', 'is', 'therefore', 'critical', 'for', 'programmers,', 'even', 'if', 'they', 'never', 'build', 'one.', 'Furthermore,', 'many', 'design', 'techniques', 'that', 'emerged', 'in', 'the', 'context', 'of', 'compilers', 'are', 'useful', 'for', 'a', 'range', 'of', 'other', 'application', 'areas.', 'This', 'course', 'introduces', 'students', 'to', 'the', 'essential', 'elements', 'of', 'building', 'a', 'compiler:', 'parsing,', 'context-sensitive', 'property', 'checking,', 'code', 'linearization,', 'register', 'allocation,', 'etc.', 'To', 'take', 'this', 'course,', 'students', 'are', 'expected', 'to', 'already', 'understand', 'how', 'programming', 'languages', 'behave,', 'to', 'a', 'fairly', 'detailed', 'degree.', 'The', 'material', 'in', 'the', 'course', 'builds', 'on', 'that', 'knowledge', 'via', 'a', 'series', 'of', 'semantics', 'preserving', 'transformations', 'that', 'start', 'with', 'a', 'fairly', 'high-level', 'programming', 'language', 'and', 'culminate', 'in', 'machine', 'code.']\n",
            "----------------------------------------\n",
            "['Prerequisite:', 'COMP_SCI', '213-0', 'or', 'consent', 'of', 'instructor.']\n",
            "----------------------------------------\n",
            "['COMP_SCI', '323-0', 'Code', 'Analysis', 'and', 'Transformation', '(1', 'Unit)']\n",
            "----------------------------------------\n",
            "['Fast,', 'highly', 'sophisticated', 'code', 'analysis', 'and', 'code', 'transformation', 'tools', 'are', 'essential', 'for', 'modern', 'software', 'development.', 'Before', 'releasing', 'its', 'mobile', 'apps,', 'Facebook', 'submits', 'them', 'to', 'a', 'tool', 'called', 'Infer', 'that', 'finds', 'bugs', 'by', 'static', 'analysis,', 'i.e.,', 'without', 'even', 'having', 'to', 'run', 'the', 'code,', 'and', 'guides', 'developers', 'in', 'fixing', 'them.', 'Google', 'Chrome', 'and', 'Mozilla', 'Firefox', 'analyze', 'and', 'optimize', 'JavaScript', 'code', 'to', 'make', 'browsers', 'acceptably', 'responsive.', 'Performance-critical', 'systems', 'and', 'application', 'software', 'would', 'be', 'impossible', 'to', 'build', 'and', 'evolve', 'without', 'compilers', 'that', 'derive', 'highly', 'optimized', 'machine', 'code', 'from', 'high-level', 'source', 'code', 'that', 'humans', 'can', 'understand.', 'Understanding', 'what', 'modern', 'code', 'analysis', 'and', 'transformation', 'techniques', 'can', 'and', \"can't\", 'do', 'is', 'a', 'prerequisite', 'for', 'research', 'on', 'both', 'software', 'engineering', 'and', 'computer', 'architecture', 'since', 'hardware', 'relies', 'on', 'software', 'to', 'realize', 'its', 'potential.', 'In', 'this', 'class,', 'you', 'will', 'learn', 'the', 'fundamentals', 'of', 'code', 'analysis', 'and', 'transformation,', 'and', 'you', 'will', 'apply', 'them', 'by', 'extending', 'LLVM,', 'a', 'compiler', 'framework', 'now', 'in', 'production', 'use', 'by', 'Apple,', 'Adobe,', 'Intel', 'and', 'other', 'industrial', 'and', 'academic', 'enterprises.']\n",
            "----------------------------------------\n",
            "['Prerequisite:', 'COMP_SCI', '213-0.']\n",
            "----------------------------------------\n",
            "['COMP_SCI', '325-1', 'Artificial', 'Intelligence', 'Programming', '(1', 'Unit)']\n",
            "----------------------------------------\n",
            "['Introduction', 'to', 'LISP', 'and', 'programming', 'knowledge-based', 'systems', 'and', 'interfaces.', 'Strong', 'emphasis', 'on', 'writing', 'maintainable,', 'extensible', 'systems.', 'Topics', 'include', 'semantic', 'net-works,', 'frames,', 'pattern', 'matching,', 'deductive', 'inference', 'rules,', 'case-based', 'reasoning,', 'and', 'discrimination', 'trees.', 'Project-driven.', 'Substantial', 'programming', 'assignments.']\n",
            "----------------------------------------\n",
            "['Prerequisite:', 'COMP_SCI', '110-0,', 'COMP_SCI', '111-0,', 'or', 'programming', 'experience.']\n",
            "----------------------------------------\n",
            "['COMP_SCI', '329-0', 'HCI', 'Studio', '(1', 'Unit)']\n",
            "----------------------------------------\n",
            "['Human-Computer', 'Interaction', '(HCI)', 'serves', 'as', 'the', 'bridge', 'between', 'computing', 'and', 'humanity.', 'In', 'this', 'class', 'we', 'will', 'develop', 'our', 'critical', 'thinking', 'skills', 'by', 'learning', 'effective', 'structures', 'for', 'designing', 'HCI', 'systems.', 'We', 'will', 'also', 'soften', 'into', 'a', 'deeper', 'understanding', 'of', 'people’s', 'problems', 'by', 'developing', 'our', 'capacities', 'for', 'humility,', 'empathy,', 'and', 'curiosity.', 'Learning', 'occurs', 'through', 'instructional', 'activities,', 'team', 'projects,', 'and', 'studio', 'critique.']\n",
            "----------------------------------------\n",
            "['Prerequisite:', 'COMP_SCI', '214-0', 'or', 'Graduate', 'Standing', 'or', 'Consent', 'of', 'instructor.']\n",
            "----------------------------------------\n",
            "['COMP_SCI', '330-0', 'Human', 'Computer', 'Interaction', '(1', 'Unit)']\n",
            "----------------------------------------\n",
            "['Introduction', 'to', 'human-computer', 'interaction', 'and', 'design', 'of', 'systems', 'that', 'work', 'for', 'people', 'and', 'their', 'organizations.', 'Understanding', 'the', 'manner', 'in', 'which', 'humans', 'interact', 'with', 'and', 'use', 'computers', 'for', 'productive', 'work.']\n",
            "----------------------------------------\n",
            "['Prerequisite:', 'COMP_SCI', '211-0', 'or', 'Graduate', 'standing', 'or', 'Consent', 'of', 'instructor.']\n",
            "----------------------------------------\n",
            "['COMP_SCI', '331-0', 'Introduction', 'to', 'Computational', 'Photography', '(1', 'Unit)']\n",
            "----------------------------------------\n",
            "['Fundamentals', 'of', 'digital', 'imaging', 'and', 'modern', 'camera', 'architectures.', 'Hands-on', 'experience', 'acquiring,', 'characterizing,', 'and', 'manipulating', 'data', 'captured', 'using', 'a', 'modern', 'camera', 'platform.']\n",
            "----------------------------------------\n",
            "['Prerequisite:', 'COMP_SCI', '150', 'or', 'COMP_SCI', '211', 'or', 'Consent', 'of', 'Instructor.']\n",
            "----------------------------------------\n",
            "['COMP_SCI', '333-0', 'Interactive', 'Information', 'Visualization', '(1', 'Unit)']\n",
            "----------------------------------------\n",
            "['This', 'course', 'covers', 'theory', 'and', 'techniques', 'for', 'information', 'visualization:', 'the', 'use', 'of', 'interactive', 'interfaces', 'to', 'visualize', 'abstract', 'data.', 'The', 'course', 'targets', 'students', 'interested', 'in', 'using', 'visualization', 'in', 'their', 'work', 'or', 'in', 'building', 'better', 'visualization', 'tools', 'and', 'systems.', 'Students', 'will', 'learn', 'to', 'design', 'and', 'implement', 'effective', 'visualizations,', 'critique', \"others'\", 'visualizations,', 'conduct', 'exploratory', 'visual', 'analysis,', 'and', 'navigate', 'research', 'on', 'information', 'visualization.']\n",
            "----------------------------------------\n",
            "['Prerequisites:', 'COMP_SCI', '214-0', 'or', 'consent', 'of', 'instructor.']\n",
            "----------------------------------------\n",
            "['COMP_SCI', '335-0', 'Introduction', 'to', 'the', 'Theory', 'of', 'Computation', '(1', 'Unit)']\n",
            "----------------------------------------\n",
            "['Mathematical', 'foundations', 'of', 'computation,', 'including', 'computability,', 'relationships', 'of', 'time', 'and', 'space,', 'and', 'the', 'P', 'vs.', 'NP', 'problem.']\n",
            "----------------------------------------\n",
            "['Prerequisite:', 'COMP_SCI', '212-0', 'or', 'consent', 'of', 'instructor.']\n",
            "----------------------------------------\n",
            "['COMP_SCI', '336-0', 'Design', '&', 'Analysis', 'of', 'Algorithms', '(1', 'Unit)']\n",
            "----------------------------------------\n",
            "['Analysis', 'techniques:', 'solving', 'recurrence', 'equations.', 'Algorithm', 'design', 'techniques:', 'divide', 'and', 'conquer,', 'the', 'greedy', 'method,', 'backtracking,', 'branch-and-bound,', 'and', 'dynamic', 'programming.', 'Sorting', 'and', 'selection', 'algorithms,', 'order', 'statistics,', 'heaps,', 'and', 'priority', 'queues.']\n",
            "----------------------------------------\n",
            "['Prerequisite:', 'COMP_SCI', '111-0,', 'COMP_SCI', '212-0,', 'or', 'CS', 'Graduate', 'Standing', 'or', 'consent', 'of', 'instructor.']\n",
            "----------------------------------------\n",
            "['COMP_SCI', '337-0', 'Natural', 'Language', 'Processing', '(1', 'Unit)']\n",
            "----------------------------------------\n",
            "['Semantics-oriented', 'introduction', 'to', 'natural', 'language', 'processing,', 'broadly', 'construed.', 'Representation', 'of', 'meaning', 'and', 'knowledge', 'inference', 'in', 'story', 'understanding,', 'script/frame', 'theory,', 'plans', 'and', 'plan', 'recognition,', 'counter-planning,', 'and', 'thematic', 'structures.']\n",
            "----------------------------------------\n",
            "['Prerequisite:', 'COMP_SCI', '348-0', 'or', 'consent', 'of', 'instructor.']\n",
            "----------------------------------------\n",
            "['COMP_SCI', '338-0', 'Practicum', 'in', 'Intelligent', 'Information', 'Systems', '(1', 'Unit)']\n",
            "----------------------------------------\n",
            "['A', 'practical', 'excursion', 'into', 'building', 'intelligent', 'information', 'systems.', 'Students', 'develop', 'a', 'working', 'program', 'in', 'information', 'access,', 'management,', 'capture,', 'or', 'retrieval.', 'Project', 'definition,', 'data', 'collection,', 'technology', 'selection,', 'implementation,', 'and', 'project', 'management.']\n",
            "----------------------------------------\n",
            "['COMP_SCI', '339-0', 'Introduction', 'to', 'Database', 'Systems', '(1', 'Unit)']\n",
            "----------------------------------------\n",
            "['Data', 'models', 'and', 'database', 'design.', 'Modeling', 'the', 'real', 'world:', 'structures,', 'constraints,', 'and', 'operations.', 'The', 'entity', 'relationship', 'to', 'data', 'modeling', '(including', 'network', 'hierarchical', 'and', 'object-oriented),', 'emphasis', 'on', 'the', 'relational', 'model.', 'Use', 'of', 'existing', 'database', 'systems', 'for', 'the', 'implementation', 'of', 'information', 'systems.']\n",
            "----------------------------------------\n",
            "['Prerequisites:', 'COMP_SCI', '214-0', 'and', '(COMP_SCI', '213-0', 'or', 'COMP_ENG', '205-0)', 'or', 'CS', 'Graduate', 'Standing.']\n",
            "----------------------------------------\n",
            "['COMP_SCI', '340-0', 'Introduction', 'to', 'Networking', '(1', 'Unit)']\n",
            "----------------------------------------\n",
            "['A', 'top-down', 'exploration', 'of', 'networking', 'using', 'the', 'five-layer', 'model', 'and', 'the', 'TCP/IP', 'stack,', 'covering', 'each', 'layer', 'in', 'depth.', 'Students', 'build', 'web', 'clients,', 'servers,', 'and', 'a', 'TCP', 'implementation', 'and', 'implement', 'routing', 'algorithms.']\n",
            "----------------------------------------\n",
            "['Prerequisites:', 'COMP_SCI', '214-0', 'and', '(COMP_SCI', '213-0', 'or', 'COMP_ENG', '205-0).']\n",
            "----------------------------------------\n",
            "['COMP_SCI', '341-0', 'Mechanism', 'Design', '(1', 'Unit)']\n",
            "----------------------------------------\n",
            "['Applying', 'algorithms', 'and', 'microeconomics', 'to', 'derive', 'a', 'theory', 'of', 'the', 'design', 'of', 'mechanisms', 'that', 'produce', 'desired', 'outcomes', 'despite', 'counteractive', 'inputs', 'by', 'outside', 'agents.', 'Key', 'application', 'areas:', 'auctions,', 'markets,', 'networking', 'protocols.']\n",
            "----------------------------------------\n",
            "['COMP_SCI', '343-0', 'Operating', 'Systems', '(1', 'Unit)']\n",
            "----------------------------------------\n",
            "['Fundamental', 'overview', 'of', 'operating', 'systems,', 'including:', 'concurrency', '(processes,', 'synchronization,', 'semaphores,', 'monitors,', 'deadlock);', 'memory', 'management', '(segmentation,', 'paging', 'virtual', 'memory', 'policies);', 'software', 'system', 'architectures', '(level', 'structures,', 'microkernals);', 'file', 'systems', '(directory', 'structures,', 'file', 'organization,', 'RAID);', 'protection', '(access', 'control,', 'capabilities,', 'encryption,', 'signatures,', 'authentication).', 'Requires', 'substantial', 'programming', 'projects.']\n",
            "----------------------------------------\n",
            "['Prerequisites:', 'COMP_SCI', '214-0', 'and', 'COMP_SCI', '213-0,', 'or', 'COMP_SCI', '214-0', 'and', 'COMP_ENG', '205-0.']\n",
            "----------------------------------------\n",
            "['COMP_SCI', '344-0', 'Design', 'of', 'Computer', 'Problem', 'Solvers', '(1', 'Unit)']\n",
            "----------------------------------------\n",
            "['Principles', 'and', 'practice', 'of', 'organizing', 'and', 'building', 'artificial', 'intelligence', 'reasoning', 'systems.', 'Pattern-directed', 'rule', 'systems,', 'truth-maintenance', 'systems,', 'and', 'constraint', 'languages.']\n",
            "----------------------------------------\n",
            "['Prerequisites:', 'COMP_SCI', '348-0', 'and', 'COMP_SCI', '325-1', 'or', 'equivalent', 'LISP', 'experience.']\n",
            "----------------------------------------\n",
            "['COMP_SCI', '345-0', 'Distributed', 'Systems', '(1', 'Unit)']\n",
            "----------------------------------------\n",
            "['Basic', 'principles', 'behind', 'distributed', 'systems', '(collections', 'of', 'independent', 'components', 'that', 'appear', 'to', 'users', 'as', 'a', 'single', 'coherent', 'system)', 'and', 'main', 'paradigms', 'used', 'to', 'organize', 'them.']\n",
            "----------------------------------------\n",
            "['Prerequisites:', 'COMP_SCI', '213-0', 'and', 'COMP_SCI', '214-0.']\n",
            "----------------------------------------\n",
            "['COMP_SCI', '347-0', 'Conversational', 'AI', '(1', 'Unit)', 'Principles', 'and', 'practices', 'of', 'creating', 'AI', 'systems', 'which', 'interact', 'with', 'people', 'through', 'conversations.', 'This', 'includes', 'knowledge-rich', 'natural', 'language', 'understanding,', 'multimodal', 'interactions', '(i.e.', 'speech', 'and', 'sketching),', 'principles', 'of', 'dialogue', 'drawn', 'from', 'cognitive', 'science,', 'question-answering,', 'and', 'architectures', 'for', 'building', 'conversational', 'AI', 'systems.', 'Involves', 'substantial', 'programming', 'and', 'project', 'work.', 'Class', 'sessions', 'include', 'both', 'lectures', 'and', 'studio', 'instruction.', 'Prerequisites:', 'COMP_SCI', '371', 'or', 'permission', 'of', 'instructor.']\n",
            "----------------------------------------\n",
            "['COMP_SCI', '348-0', 'Introduction', 'to', 'Artificial', 'Intelligence', '(1', 'Unit)']\n",
            "----------------------------------------\n",
            "['Core', 'techniques', 'and', 'applications', 'of', 'AI.', 'Representing,', 'retrieving,', 'and', 'applying', 'knowledge', 'for', 'problem', 'solving.', 'Hypothesis', 'exploration.', 'Theorem', 'proving.', 'Vision', 'and', 'neural', 'networks.']\n",
            "----------------------------------------\n",
            "['Prerequisites:', 'COMP_SCI', '111', 'and', 'COMP_SCI', '214', 'or', 'COMP_SCI', '111', 'and', 'CogSci', 'major', 'or', 'CS', 'Graduate', 'Standing.']\n",
            "----------------------------------------\n",
            "['COMP_SCI', '349-0', 'Machine', 'Learning', '(1', 'Unit)']\n",
            "----------------------------------------\n",
            "['Study', 'of', 'algorithms', 'that', 'improve', 'through', 'experience.', 'Topics', 'typically', 'include', 'Bayesian', 'learning,', 'decision', 'trees,', 'genetic', 'algorithms,', 'neural', 'networks,', 'Markov', 'models,', 'and', 'reinforcement', 'learning.', 'Assignments', 'include', 'programming', 'projects', 'and', 'written', 'work.']\n",
            "----------------------------------------\n",
            "['Prerequisites:', 'COMP_SCI', 'grad', 'standing', 'OR', '(COMP_SCI', '214', 'and', '(MATH', '240-0', 'or', 'GEN_ENG', '205-1', 'or', 'GEN_ENG', '206-1)', 'and', '(IEMS', '201-0', 'or', 'IEMS', '303-0', 'or', 'ELEC_ENG', '302-0', 'or', 'STAT', '210-0', 'or', 'MATH', '310-1).']\n",
            "----------------------------------------\n",
            "['COMP_SCI', '350-0', 'Introduction', 'to', 'Computer', 'Security', '(1', 'Unit)']\n",
            "----------------------------------------\n",
            "['Basic', 'principles', 'and', 'practices', 'of', 'computer', 'and', 'information', 'security.', 'Software,', 'operating', 'system,', 'and', 'network', 'security', 'techniques,', 'with', 'detailed', 'analysis', 'of', 'real-world', 'examples.', 'Topics', 'include', 'cryptography,', 'authentication,', 'software', 'and', 'operating', 'system', 'security', '(e.g.,', 'buffer', 'overflow),', 'Internet', 'vulnerability', '(DoS', 'attacks,', 'viruses/worms,', 'etc.),', 'intrusion', 'detection', 'systems,', 'firewalls,', 'VPN,', 'and', 'web', 'and', 'wireless', 'security.']\n",
            "----------------------------------------\n",
            "['Prerequisite:', 'COMP_SCI', '213-0', 'or', 'equivalent', 'or', 'consent', 'of', 'instructor;', 'COMP_SCI', '340-0', 'highly', 'recommended.']\n",
            "----------------------------------------\n",
            "['COMP_SCI', '351-1', 'Introduction', 'to', 'Computer', 'Graphics', '(1', 'Unit)']\n",
            "----------------------------------------\n",
            "['Mathematical', 'software', 'and', 'hardware', 'requirements', 'for', 'computer', 'graphics', 'systems.', 'Data', 'structures', 'and', 'programming', 'languages.', 'Random', 'displays.', 'Graphic', 'applications.']\n",
            "----------------------------------------\n",
            "['Prerequisite:', 'COMP_SCI', '214-0', 'or', 'Graduate', 'standing.']\n",
            "----------------------------------------\n",
            "['COMP_SCI', '351-2', 'Intermediate', 'Computer', 'Graphics', '(1', 'Unit)']\n",
            "----------------------------------------\n",
            "['Methods', 'and', 'theory', 'of', 'computer', 'graphics.', 'Project-oriented', 'approach.', 'Describing', 'shapes,', 'movement,', 'and', 'lighting', 'effects;', 'interactive', 'elements.']\n",
            "----------------------------------------\n",
            "['Prerequisites:', 'COMP_SCI', '214-0', 'and', 'COMP_SCI', '351-1', 'or', 'Graduate', 'standing.']\n",
            "----------------------------------------\n",
            "['COMP_SCI', '352-0', 'Machine', 'Perception', 'of', 'Music', '&', 'Audio', '(1', 'Unit)']\n",
            "----------------------------------------\n",
            "['Machine', 'extraction', 'of', 'musical', 'structure', 'in', 'audio', 'and', 'MIDI', 'and', 'score', 'files,', 'covering', 'areas', 'such', 'as', 'source', 'separation', 'and', 'perceptual', 'mapping', 'of', 'audio', 'to', 'machine-quantifiable', 'measures.']\n",
            "----------------------------------------\n",
            "['Prerequisite:', 'COMP_SCI', '211-0', 'and', 'COMP_SCI', '214-0.']\n",
            "----------------------------------------\n",
            "['COMP_SCI', '354-0', 'Computer', 'System', 'Security', '(1', 'Unit)']\n",
            "----------------------------------------\n",
            "['The', 'past', 'decade', 'has', 'seen', 'an', 'explosion', 'in', 'the', 'concern', 'for', 'the', 'security', 'of', 'information.', 'This', 'course', 'introduces', 'students', 'to', 'the', 'basic', 'principles', 'and', 'practices', 'of', 'computer', 'system', 'and', 'networking', 'security,', 'with', 'detailed', 'analysis', 'of', 'real-world', 'examples', 'and', 'hands-on', 'practice.', 'Topics', 'include', 'the', 'basic', 'crypto,', 'authentication,', 'reverse', 'engineering,', 'buffer', 'overflow', 'attacks,', 'vulnerability', 'scanning,', 'web', 'attacks,', 'firewalls,', 'intrusion', 'detection/prevention', 'systems,', 'etc.', 'We', 'will', 'first', 'introduce', 'the', 'basic', 'theory', 'for', 'each', 'type', 'of', 'attack;', 'then', 'we', 'will', 'actually', 'carry', 'them', 'out', 'in', \"'real-world'\", 'settings.', 'The', 'goal', 'is', 'to', 'learn', 'security', 'by', 'learning', 'how', 'to', 'view', 'your', 'machine', 'from', 'a', \"hacker's\", 'perspective.', 'In', 'addition,', 'we', 'encourage', 'students', 'to', 'participate', 'in', 'the', 'UCSB', 'International', 'Capture', 'the', 'Flag', 'Competition.', 'Capture', 'the', 'Flag', 'is', 'a', 'network', 'security', 'exercise', 'where', 'the', 'goal', 'is', 'to', 'exploit', 'other', 'machines', 'while', 'defending', 'your', 'own.', 'In', 'fact,', 'this', 'course', 'should', 'prepare', 'you', 'for', 'any', 'one', 'of', 'many', 'capture', 'the', 'flag', 'competitions', 'that', 'take', 'place', 'year-round.', 'We', 'will', 'learn', 'about', 'different', 'types', 'of', 'hacks', 'and', 'perform', 'them.', 'After', 'learning', 'how', 'to', 'execute', 'such', 'exploits', 'and', 'penetrate', 'a', 'network,', 'we', 'will', 'discuss', 'ways', 'to', 'protect', 'a', 'network', 'from', 'others', 'exploiting', 'the', 'same', 'vulnerabilities.', 'Understanding', 'security', 'is', 'essential', 'in', 'all', 'fields', 'of', 'software', 'development', 'and', 'computing.', 'For', 'major', 'or', 'minors', 'in', 'Computer', 'Science,', 'this', 'course', 'can', 'satisfy', 'the', 'system', 'breadth.']\n",
            "----------------------------------------\n",
            "['Prerequisite:', 'COMP_SCI', '211-0', 'and', 'COMP_SCI', '213-0', 'or', 'COMP_SCI', '211-0', 'and', 'COMP_ENG', '205-0.']\n",
            "----------------------------------------\n",
            "['COMP_SCI', '355-0', 'Digital', 'Forensics', 'and', 'Incident', 'Response', '(1', 'Unit)']\n",
            "----------------------------------------\n",
            "['This', 'course', 'aims', 'to', 'teach', 'students', 'the', 'concepts', 'of', 'Digital', 'Forensics', 'and', 'Incident', 'Response.', 'The', 'technical', 'content', 'taught', 'in', 'the', 'class', 'consists', 'of', 'deep', 'knowledge', 'of', 'filesystems', 'and', 'operating', 'systems', 'so', 'that', 'students', 'know', 'which', 'digital', 'artifacts', 'to', 'investigate', 'in', 'data', 'breach', 'scenarios.', 'Labs', 'and', 'assignments', 'are', 'a', 'sanitized', 'version', 'of', 'real-world', 'intrusions', 'by', 'nation-state', 'actors', 'and', 'cybercriminals.']\n",
            "----------------------------------------\n",
            "['COMP_SCI', '367-0', 'Wireless', 'and', 'Mobile', 'Health:', 'Passive', 'Sensing', 'Data', 'Analytics', '(1', 'Unit)']\n",
            "----------------------------------------\n",
            "['A', 'hands-on', 'introduction', 'and', 'experience', 'to', 'the', 'growing', 'field', 'of', 'mobile', 'Health.', 'Students', 'work', 'together', 'on', 'a', 'project', 'with', 'clinicians', 'and', 'faculty', 'in', 'medicine,', 'building', 'a', 'unique', 'mHealth', 'system', 'while', 'testing', 'their', 'system', 'on', 'a', 'small', 'population.', 'Theory-driven', 'project', 'hypothesis,', 'technology', 'selection', 'and', 'development,', 'passive', 'sensing', 'data', 'analytic', 'chain', 'understanding', 'and', 'implementation,', 'and', 'project', 'management.']\n",
            "----------------------------------------\n",
            "['COMP_SCI', '370-0', 'Computer', 'Game', 'Design', '(1', 'Unit)']\n",
            "----------------------------------------\n",
            "['Plot,', 'narrative,', 'and', 'character', 'simulation', 'for', 'creating', 'game', 'worlds;', 'artificial', 'intelligence', 'for', 'synthetic', 'characters;', 'tuning', 'gameplay.', 'Substantial', 'programming', 'and', 'project', 'work.']\n",
            "----------------------------------------\n",
            "['Prerequisites:', 'COMP_SCI', '214-0;', '1', 'unit', 'of', 'COMP_SCI', '322-0,', 'COMP_SCI', '343-0,', 'COMP_SCI', '348-0,', 'or', 'COMP_SCI', '351-1,', 'COMP_SCI', '351-2.']\n",
            "----------------------------------------\n",
            "['COMP_SCI', '371-0', 'Knowledge', 'Representation', 'and', 'Reasoning', '(1', 'Unit)']\n",
            "----------------------------------------\n",
            "['Principles', 'and', 'practices', 'of', 'knowledge', 'representation,', 'including', 'logics,', 'ontologies,', 'commonsense', 'knowledge,', 'and', 'semantic', 'web', 'technologies.']\n",
            "----------------------------------------\n",
            "['Prerequisite:', 'COMP_SCI', '348-0,', 'COMP_SCI', '325-1,', 'or', 'equivalent', 'experience', 'with', 'artificial', 'intelligence.']\n",
            "----------------------------------------\n",
            "['COMP_SCI', '372-0', 'Designing', 'and', 'Constructing', 'Models', 'with', 'Multi-Agent', 'Languages', '(1', 'Unit)', 'This', 'course', 'will', 'begin', 'with', 'an', 'introduction', 'to', 'the', 'multi-agent', 'language', 'NetLogo.', 'Students', 'will', 'design', 'and', 'implement', 'several', 'NetLogo', 'models', 'and', 'analyze', 'their', 'behavioral', 'regimes.', 'Students', 'will', 'also', 'learn', 'to', 'build', 'models', 'of', 'interaction', 'on', 'social', 'networks', '(or', 'other', 'types', 'of', 'networks).', 'We', 'will', 'cover', 'methodology', 'for', 'verifying,', 'validating', 'and', 'replicating', 'agent-based', 'models', 'and', 'comparisons', 'with', 'systems', 'dynamics', 'and', 'equation-based', 'models.', 'NetLogo', 'comes', 'with', 'many', 'extensions', 'that', 'support', 'a', 'variety', 'of', 'additional', 'features.', 'Students', 'can', 'use', 'these', 'extensions', 'to', 'create', 'specialized', 'models,', 'such', 'as', 'complex', 'networks,', 'real-time', 'data', 'extraction,', 'data', 'mining,', 'connections', 'to', 'physical', 'devices,', 'etc..', 'Students', 'will', 'also', 'have', 'an', 'opportunity', 'to', 'explore', 'existing', 'and', 'create', 'their', 'own', 'participatory', 'simulations', 'using', 'the', 'HubNet', 'architecture', 'as', 'well', 'as', 'exploring', 'connecting', 'real', 'world', 'sensors', 'and', 'motors', 'to', 'models.', 'Students', 'can', 'also', 'explore', 'multi-level', 'agent-based', 'modeling', 'in', 'which', 'hundreds', 'or', 'thousands', 'of', 'models', 'are', 'connected', 'with', 'NetLogo’s', 'LevelSpace', 'extension.']\n",
            "----------------------------------------\n",
            "['COMP_SCI', '376-0', 'Computer', 'Game', 'Design', 'and', 'Development', '(1', 'Unit)']\n",
            "----------------------------------------\n",
            "['Introduction', 'to', 'design', 'of', 'simulation-based', 'media,', 'with', 'an', 'emphasis', 'on', '2D', 'game', 'design.', 'Mathematical', 'preliminaries:', 'linear,', 'affine,', 'and', 'projective', 'spaces,', 'linear', 'transforms,', 'inner', 'and', 'exterior', 'products,', 'unit', 'quaternions;', 'Architecture:', 'update/render', 'loop,', 'component', 'systems,', 'serialization', 'and', 'deserialization,', 'event', 'handling', 'and', 'asynchronous', 'processing,', 'multitasking;', 'Rendering:', 'scene', 'graphs,', 'meshes,', 'shaders,', 'sprites;', 'Networking;', 'Audio;', 'Physics:', 'particles,', 'rigid', 'bodies,', 'collision', 'detection;', 'Gameplay', 'design.']\n",
            "----------------------------------------\n",
            "['Prerequisite:', 'COMP_SCI', '214-0.']\n",
            "----------------------------------------\n",
            "['COMP_SCI', '377-0', 'Game', 'Design', 'Studio', '(1', 'Unit)']\n",
            "----------------------------------------\n",
            "['In', 'this', 'course,', 'students', 'will', 'design', 'and', 'develop', 'games', 'using', 'the', 'Unity', 'game', 'engine,', 'with', 'focus', 'on', 'team-based', 'projects', 'and', 'agile', 'development', 'practices.', 'Lectures', 'will', 'cover', 'game', 'design', 'theory,', 'game', 'architecture', 'and', 'implementation,', 'and', 'the', 'business', 'of', 'game', 'development.', 'Students', 'will', 'participate', 'in', 'class', 'discussion', 'and', 'evaluation', 'of', 'projects', 'in', 'progress,', 'to', 'develop', 'their', 'skills', 'in', 'iterative', 'design', 'and', 'implementation.']\n",
            "----------------------------------------\n",
            "['Prerequisite:', 'COMP_SCI', '214', 'and', 'COMP_SCI', '376-0.']\n",
            "----------------------------------------\n",
            "['COMP_SCI', '393-0', 'Software', 'Construction', '(1', 'Unit)']\n",
            "----------------------------------------\n",
            "['Building', 'software', 'is', 'a', 'craft', 'that', 'requires', 'careful', 'design.', 'This', 'course', 'teaches', 'software', 'design', 'principles', 'in', 'a', 'studio', 'setting.', 'Each', 'week,', 'students', 'present', 'their', 'programs', 'to', 'the', 'class', 'for', 'review.', 'Together,', 'the', 'class', 'evaluates', 'the', 'programs', 'for', 'correctness', 'and,', 'more', 'importantly,', 'clarity', 'and', 'design.', 'Expect', 'to', 'learn', 'how', 'to', 'build', 'reliable,', 'maintainable,', 'extensible', 'software', 'and', 'how', 'to', 'read', \"others'\", 'codes.']\n",
            "----------------------------------------\n",
            "['Prerequisites:', 'COMP_SCI', '211-0', 'and', 'COMP_SCI', '214-0.']\n",
            "----------------------------------------\n",
            "['COMP_SCI', '394-0', 'Agile', 'Software', 'Development', '(1', 'Unit)']\n",
            "----------------------------------------\n",
            "['Developing', 'mobile', 'and', 'web', 'applications,', 'using', 'modern', 'sustainable', 'agile', 'practices,', 'such', 'as', 'backlogs,', 'user', 'stories,', 'velocity', 'charts,', 'and', 'test', 'driven', 'development,', 'to', 'deliver', 'value', 'as', 'quickly', 'as', 'possible', 'to', 'end', 'users,', 'clients,', 'developers,', 'and', 'the', 'development', 'organization.']\n",
            "----------------------------------------\n",
            "['Prerequisites:', 'Consent', 'of', 'instructor.']\n",
            "----------------------------------------\n",
            "['COMP_SCI', '396-0', 'Special', 'Topics', 'in', 'Computer', 'Science', '(1', 'Unit)']\n",
            "----------------------------------------\n",
            "['Projects', 'suggested', 'by', 'faculty', 'and', 'approved', 'by', 'the', 'department.', 'Equivalent', 'to', '397', 'but', 'intended', 'to', 'apply', 'toward', 'courses', 'for', 'the', 'computer', 'science', 'major', 'and', 'its', 'project', 'requirement.']\n",
            "----------------------------------------\n",
            "['COMP_SCI', '397-0', 'Special', 'Projects', 'in', 'Computer', 'Science', '(1', 'Unit)']\n",
            "----------------------------------------\n",
            "['Topics', 'suggested', 'by', 'faculty', 'and', 'approved', 'by', 'the', 'department.', 'Equivalent', 'to', '396', 'but', 'intended', 'to', 'apply', 'toward', 'courses', 'for', 'the', 'computer', 'science', 'major.']\n",
            "----------------------------------------\n",
            "['COMP_SCI', '399-0', 'Projects', '(1', 'Unit)', 'Seminar', 'and', 'projects', 'for', 'advanced', 'undergraduates', 'on', 'subjects', 'of', 'current', 'interest', 'in', 'electrical', 'and', 'computer', 'engineering.']\n",
            "----------------------------------------\n",
            "['633', 'Clark', 'StreetEvanston,', 'IL', '60208-1118']\n",
            "----------------------------------------\n",
            "['847.491.5234']\n",
            "----------------------------------------\n",
            "['847.491.8458']\n",
            "----------------------------------------\n",
            "['nu-registrar@northwestern.edu']\n",
            "----------------------------------------\n",
            "['Print', 'this', 'page.']\n",
            "----------------------------------------\n",
            "['The', 'PDF', 'will', 'include', 'all', 'information', 'unique', 'to', 'this', 'page.']\n",
            "----------------------------------------\n",
            "['PDF', 'of', 'the', '2022-2023', 'Undergraduate', 'Catalog.']\n"
          ]
        }
      ],
      "source": [
        "import requests\n",
        "from bs4 import BeautifulSoup\n",
        "\n",
        "# Make an HTTP request to the website's URL\n",
        "url = \"https://catalogs.northwestern.edu/undergraduate/courses-az/comp_sci/\"\n",
        "response = requests.get(url)\n",
        "\n",
        "# Use BeautifulSoup to parse the HTML content of the website\n",
        "soup = BeautifulSoup(response.content, \"html.parser\")\n",
        "\n",
        "# Find all the paragraphs on the website\n",
        "paragraphs = soup.find_all(\"p\")\n",
        "\n",
        "# Extract the text from each paragraph and print it\n",
        "mess = []\n",
        "for p in paragraphs:\n",
        "    print(\"-\"*40)\n",
        "    print([i for i in  p.get_text().split()])\n",
        "    para = [i for i in  p.get_text().split()]\n",
        "    name = \"\"\n",
        "    if \"_\" in para[0]:\n",
        "      try:\n",
        "        name = para[0] + \" \" + para[1]\n",
        "      except:\n",
        "        print(\"Failed at \", para)\n",
        "        pass\n",
        "      \n",
        "    \n",
        "\n",
        "      \n",
        "    prereqs = \"\"\n",
        "    start = 0\n",
        "    end = 0\n",
        "    has_prereqa = False\n",
        "\n",
        "    for i in range(len(para)):\n",
        "      if \"Prerequisite\" in para[i]:\n",
        "        start = i + 1\n",
        "\n",
        "      if start != 0:\n",
        "        if \".\" in para[i]:\n",
        "          end = i\n",
        "          break\n",
        "    \n",
        "    mess.append(name)\n",
        "    if para[start-1:end+1] and start != 0 and end !=0:\n",
        "      mess.append(para[start-1:end+1])\n",
        "    # print(\"Prereqs---\", para[start-1:end+1])\n",
        "    # print(\"Name---\", name)"
      ]
    },
    {
      "cell_type": "code",
      "execution_count": null,
      "metadata": {
        "id": "RylOZfPCiaE7"
      },
      "outputs": [],
      "source": [
        "mess\n",
        "mess = [item for item in mess if item != \"\"] #eliminate empty strings"
      ]
    },
    {
      "cell_type": "code",
      "execution_count": null,
      "metadata": {
        "colab": {
          "base_uri": "https://localhost:8080/"
        },
        "id": "14k1d7Yqj8Rz",
        "outputId": "01b10cfe-1c9d-42c6-f940-001b3510057a"
      },
      "outputs": [
        {
          "data": {
            "text/plain": [
              "{'COMP_SCI 101-0': None,\n",
              " 'COMP_SCI 110-0': None,\n",
              " 'COMP_SCI 111-0': None,\n",
              " 'COMP_SCI 130-0': None,\n",
              " 'COMP_SCI 150-0': 'COMP_SCI 110-0 or COMP_SCI 111-0 or GEN_ENG 205-1 or GEN_ENG 206-1.',\n",
              " 'COMP_SCI 211-0': 'COMP_SCI 111-0 or COMP_SCI 150-0.',\n",
              " 'COMP_SCI 212-0': '(EECS 110 or EECS 111) and Math 228-1 or 230-0.',\n",
              " 'COMP_SCI 213-0': 'COMP_SCI 211-0.',\n",
              " 'COMP_SCI 214-0': 'COMP_SCI 111 and (COMP_SCI 150 or COMP_SCI 211).',\n",
              " 'COMP_SCI 217-0': 'COMP_SCI 110-0 or COMP_SCI 111-0 or COMP_SCI 150-0 or COMP_SCI 211-0 or consent of instructor.',\n",
              " 'COMP_SCI 295-0': None,\n",
              " 'COMP_SCI 301-0': 'COMP_SCI 110-0, COMP_SCI 111-0, or consent of instructor.',\n",
              " 'COMP_SCI 310-0': 'COMP_SCI 213-0, COMP_SCI 214-0.',\n",
              " 'COMP_SCI 311-0': None,\n",
              " 'COMP_SCI 313-0': 'COMP_SCI 110-0.',\n",
              " 'COMP_SCI 314-0': None,\n",
              " 'COMP_SCI 315-0': 'consent of instructor (by application only).',\n",
              " 'COMP_SCI 321-0': 'COMP_SCI 111 and, COMP_SCI 211, and COMP_SCI 214 or Graduate standing.',\n",
              " 'COMP_SCI 322-0': 'COMP_SCI 213-0 or consent of instructor.',\n",
              " 'COMP_SCI 323-0': 'COMP_SCI 213-0.',\n",
              " 'COMP_SCI 325-1': 'COMP_SCI 110-0, COMP_SCI 111-0, or programming experience.',\n",
              " 'COMP_SCI 329-0': 'COMP_SCI 214-0 or Graduate Standing or Consent of instructor.',\n",
              " 'COMP_SCI 330-0': 'COMP_SCI 211-0 or Graduate standing or Consent of instructor.',\n",
              " 'COMP_SCI 331-0': 'COMP_SCI 150 or COMP_SCI 211 or Consent of Instructor.',\n",
              " 'COMP_SCI 333-0': 'COMP_SCI 214-0 or consent of instructor.',\n",
              " 'COMP_SCI 335-0': 'COMP_SCI 212-0 or consent of instructor.',\n",
              " 'COMP_SCI 336-0': 'COMP_SCI 111-0, COMP_SCI 212-0, or CS Graduate Standing or consent of instructor.',\n",
              " 'COMP_SCI 337-0': 'COMP_SCI 348-0 or consent of instructor.',\n",
              " 'COMP_SCI 338-0': None,\n",
              " 'COMP_SCI 339-0': 'COMP_SCI 214-0 and (COMP_SCI 213-0 or COMP_ENG 205-0) or CS Graduate Standing.',\n",
              " 'COMP_SCI 340-0': 'COMP_SCI 214-0 and (COMP_SCI 213-0 or COMP_ENG 205-0).',\n",
              " 'COMP_SCI 341-0': None,\n",
              " 'COMP_SCI 343-0': 'COMP_SCI 214-0 and COMP_SCI 213-0, or COMP_SCI 214-0 and COMP_ENG 205-0.',\n",
              " 'COMP_SCI 344-0': 'COMP_SCI 348-0 and COMP_SCI 325-1 or equivalent LISP experience.',\n",
              " 'COMP_SCI 345-0': 'COMP_SCI 213-0 and COMP_SCI 214-0.',\n",
              " 'COMP_SCI 347-0': 'COMP_SCI 371 or permission of instructor.',\n",
              " 'COMP_SCI 348-0': 'COMP_SCI 111 and COMP_SCI 214 or COMP_SCI 111 and CogSci major or CS Graduate Standing.',\n",
              " 'COMP_SCI 349-0': 'COMP_SCI grad standing OR (COMP_SCI 214 and (MATH 240-0 or GEN_ENG 205-1 or GEN_ENG 206-1) and (IEMS 201-0 or IEMS 303-0 or ELEC_ENG 302-0 or STAT 210-0 or MATH 310-1).',\n",
              " 'COMP_SCI 350-0': 'COMP_SCI 213-0 or equivalent or consent of instructor; COMP_SCI 340-0 highly recommended.',\n",
              " 'COMP_SCI 351-1': 'COMP_SCI 214-0 or Graduate standing.',\n",
              " 'COMP_SCI 351-2': 'COMP_SCI 214-0 and COMP_SCI 351-1 or Graduate standing.',\n",
              " 'COMP_SCI 352-0': 'COMP_SCI 211-0 and COMP_SCI 214-0.',\n",
              " 'COMP_SCI 354-0': 'COMP_SCI 211-0 and COMP_SCI 213-0 or COMP_SCI 211-0 and COMP_ENG 205-0.',\n",
              " 'COMP_SCI 355-0': None,\n",
              " 'COMP_SCI 367-0': None,\n",
              " 'COMP_SCI 370-0': 'COMP_SCI 214-0; 1 unit of COMP_SCI 322-0, COMP_SCI 343-0, COMP_SCI 348-0, or COMP_SCI 351-1, COMP_SCI 351-2.',\n",
              " 'COMP_SCI 371-0': 'COMP_SCI 348-0, COMP_SCI 325-1, or equivalent experience with artificial intelligence.',\n",
              " 'COMP_SCI 372-0': None,\n",
              " 'COMP_SCI 376-0': 'COMP_SCI 214-0.',\n",
              " 'COMP_SCI 377-0': 'COMP_SCI 214 and COMP_SCI 376-0.',\n",
              " 'COMP_SCI 393-0': 'COMP_SCI 211-0 and COMP_SCI 214-0.',\n",
              " 'COMP_SCI 394-0': 'Consent of instructor.',\n",
              " 'COMP_SCI 396-0': None,\n",
              " 'COMP_SCI 397-0': None,\n",
              " 'COMP_SCI 399-0': None}"
            ]
          },
          "execution_count": 3,
          "metadata": {},
          "output_type": "execute_result"
        }
      ],
      "source": [
        "courselist = dict()\n",
        "i = 0\n",
        "while i < (len(mess) - 1):\n",
        "  name = \"\"\n",
        "  prereqs = \"\"\n",
        "  if isinstance(mess[i], str):\n",
        "    name = mess[i]\n",
        "    if not isinstance(mess[i+1], str):\n",
        "      prereqs = mess[i+1]\n",
        "      courselist[name] = \" \".join(prereqs[1:])\n",
        "      i += 2\n",
        "    else:\n",
        "      courselist[name] = None\n",
        "      i+=1\n",
        "  else:\n",
        "    break\n",
        "\n",
        "if isinstance(mess[-1], str):\n",
        "  courselist[mess[-1]] = None\n",
        "\n",
        "courselist"
      ]
    },
    {
      "cell_type": "markdown",
      "metadata": {
        "id": "QJhsuKOmq9xr"
      },
      "source": [
        "# Mess to JSON (Andre)"
      ]
    },
    {
      "cell_type": "markdown",
      "metadata": {
        "id": "PQ1CeYI5eWRj"
      },
      "source": [
        "##node classes"
      ]
    },
    {
      "cell_type": "code",
      "execution_count": null,
      "metadata": {
        "id": "oqGVA2j8eVxU"
      },
      "outputs": [],
      "source": [
        "from enum import IntEnum\n",
        "class ConnectionType(IntEnum):\n",
        "  NoConnection = 0\n",
        "  Or = 1\n",
        "  And = 2\n",
        "\n",
        "  def __str__(self) -> str:\n",
        "    strings = [\"\", \"or\", \"and\"]\n",
        "    return strings[self]\n",
        "\n",
        "# prereqParser.py\n",
        "# Responsible for parsing the dictionary of human readable prereq information into a node format\n",
        "\n",
        "def GenerateConnections(courseInfo : dict) -> dict:\n",
        "    courses = {}\n",
        "    for course in courseInfo.keys():\n",
        "        courses[courses] = GenerateNodes(courseInfo[course])\n",
        "    return courses\n",
        "\n",
        "def GenerateNodes(prereqs):\n",
        "    return \"adlfa;ldfj\"\n",
        "\n",
        "import json\n",
        "\n",
        "class CourseNodeEncoder(json.JSONEncoder):\n",
        "    def default(self, obj):\n",
        "        if isinstance(obj, CourseNode):\n",
        "            return {\n",
        "                \"connections\": obj.connections,\n",
        "                \"connectionType\": obj.connectionType\n",
        "            }\n",
        "        return super().default(obj)\n",
        "\n",
        "# A CourseNode may have two values\n",
        "# If the CourseNode is composite, then it's connections are always other courseNodes\n",
        "# If the CourseNode is not composite, then it's connection is singular - it is a string\n",
        "class CourseNode:\n",
        "    def __init__(self, connections=None, connectionType=ConnectionType.NoConnection):\n",
        "        self.connections = []\n",
        "        # We love dynamic languages :c\n",
        "        if connections != None:\n",
        "            if isinstance(connections, str):\n",
        "                    self.connections = connections\n",
        "            else:\n",
        "                if connectionType != connectionType.NoConnection: # This is a composite node, therefore will only have nodes as children\n",
        "                    for connection in connections:\n",
        "                        if isinstance(connection, CourseNode):\n",
        "                            self.connections.append(connection)\n",
        "                        elif isinstance(connection, str):\n",
        "                            node = CourseNode()\n",
        "                            node.connections = connection\n",
        "                            self.connections.append(node)\n",
        "                        else:\n",
        "                            ValueError(\"Connections can only be CourseNodes or course names!\")\n",
        "                else:\n",
        "                    self.connections = connections # This is not a composite node, and therefore will be stored as a string\n",
        "            \n",
        "        self.connectionType = connectionType \n",
        "\n",
        "    def GetType(self) -> ConnectionType:\n",
        "        return self.connectionType\n",
        "\n",
        "    def GetConnections(self):\n",
        "        return self.connections\n",
        "        \n",
        "    # A node is composite when it is comprised of at least one non-compsite node\n",
        "    # If the node simply holds a courseName as it's connection, then it is not composite\n",
        "    def IsComposite(self):\n",
        "        return self.connectionType != ConnectionType.NoConnection\n",
        "        \n",
        "    \n",
        "    def BuildTree(self, courses, level = 0):\n",
        "        # Have we reached an endpoint?\n",
        "        if self.IsComposite() == False: # We have reached a possible stopping point\n",
        "            #print(f\"Possible Endpoint Found. Searching courses for {self.connections}\")\n",
        "            \n",
        "            if self.connections not in courses:\n",
        "              courses[self.connections] = None\n",
        "            node = courses[self.connections]\n",
        "            if node == None:\n",
        "                # We have reached a stopping point\n",
        "                # print(f\"Found endpoint at {self.connections}\")\n",
        "                return self.connections\n",
        "            # print(f\"Extending tree from {self.connections}\")\n",
        "            output = \"-\" * (level - 1) * 2 + self.connections + \"\\n\"\n",
        "            extension = courses[self.connections].BuildTree(courses, level + 1) # Continue building the tree\n",
        "            return output + extension\n",
        "            \n",
        "        # This node is made out of more logical nodes\n",
        "        output = \"\"\n",
        "        num_connections = len(self.connections)\n",
        "        for i, node in enumerate(self.connections):\n",
        "            output += \"-\" * level * 2\n",
        "            output += node.BuildTree(courses, level)\n",
        "            if i != num_connections - 1:\n",
        "                output += \" \" + str(self.connectionType) + \" \\n\"\n",
        "\n",
        "        return output"
      ]
    },
    {
      "cell_type": "code",
      "execution_count": null,
      "metadata": {
        "colab": {
          "base_uri": "https://localhost:8080/"
        },
        "id": "el-mVoKge2iV",
        "outputId": "5d729d33-9e1e-4224-db2c-779af537d639"
      },
      "outputs": [
        {
          "name": "stdout",
          "output_type": "stream",
          "text": [
            "\n",
            "\n",
            "***** TREE FOR COMP_SCI 213 *****\n",
            "Possible Endpoint Found. Searching courses for COMP_SCI 211\n",
            "Possible Endpoint Found. Searching courses for COMP_SCI 111\n",
            "Possible Endpoint Found. Searching courses for COMP_SCI 150\n",
            "Possible Endpoint Found. Searching courses for COMP_SCI 110\n",
            "Possible Endpoint Found. Searching courses for COMP_SCI 111\n",
            "Possible Endpoint Found. Searching courses for GEN_ENG 205-1\n",
            "Possible Endpoint Found. Searching courses for GEN_ENG 206-1\n",
            "COMP_SCI 211\n",
            "--COMP_SCI 111 or \n",
            "--COMP_SCI 150\n",
            "----COMP_SCI 110 or \n",
            "----COMP_SCI 111 or \n",
            "----GEN_ENG 205-1 or \n",
            "----GEN_ENG 206-1\n",
            "\n",
            "\n"
          ]
        }
      ],
      "source": [
        "import json\n",
        "from pprint import pprint\n",
        "\n",
        "def PrintTree(courses, start):\n",
        "    print(\"\\n\")\n",
        "    print(\"*\" * 5 + \" TREE FOR \" + start + \" \" + \"*\" * 5)\n",
        "    if start not in courses:\n",
        "      courses[start] = None\n",
        "    if courses[start] == None:\n",
        "        print(\"No prerequisites found!\")\n",
        "    else:\n",
        "        print(courses[start].BuildTree(courses))\n",
        "    print(\"\\n\")\n",
        "\n",
        "# courseInfo = scraper.GenerateCourses(\"https://catalogs.northwestern.edu/undergraduate/courses-az/comp_sci/\")\n",
        "# pprint(courseInfo)\n",
        "\n",
        "# print(\"\\n\" * 2)\n",
        "# courses = prereqParser.GenerateConnections(courseInfo)\n",
        "# pprint(courses)\n",
        "\n",
        "courses = {}\n",
        "courses[\"COMP_SCI 213\"] = CourseNode(\"COMP_SCI 211\")\n",
        "courses[\"COMP_SCI 211\"] = CourseNode([\"COMP_SCI 111\", \"COMP_SCI 150\"], ConnectionType.Or)\n",
        "courses[\"COMP_SCI 111\"] = None\n",
        "courses[\"COMP_SCI 150\"] = CourseNode([\"COMP_SCI 110\", \"COMP_SCI 111\", \"GEN_ENG 205-1\", \"GEN_ENG 206-1\"],\n",
        "                                     ConnectionType.Or)\n",
        "courses[\"GEN_ENG 205-1\"] = None\n",
        "courses[\"GEN_ENG 206-1\"] = None\n",
        "courses[\"COMP_SCI 110\"] = None\n",
        "courses[\"COMP_SCI 300\"] = CourseNode([CourseNode([\"COMP_SCI 211\", \"GEN_ENG 205-1\"], \n",
        "                                                 ConnectionType.Or),\n",
        "                                     CourseNode(\"COMP_SCI 213\")], \n",
        "                                     ConnectionType.And)\n",
        "PrintTree(courses, \"COMP_SCI 213\")"
      ]
    },
    {
      "cell_type": "markdown",
      "metadata": {
        "id": "7zztU6GTqHYU"
      },
      "source": [
        "## parse through"
      ]
    },
    {
      "cell_type": "code",
      "execution_count": null,
      "metadata": {
        "colab": {
          "base_uri": "https://localhost:8080/"
        },
        "id": "SJL0R2a_q7iq",
        "outputId": "fa207ff1-1023-4785-e2da-26ef0e926cf7"
      },
      "outputs": [
        {
          "data": {
            "text/plain": [
              "{'COMP_SCI 101-0': None,\n",
              " 'COMP_SCI 110-0': None,\n",
              " 'COMP_SCI 111-0': None,\n",
              " 'COMP_SCI 130-0': None,\n",
              " 'COMP_SCI 150-0': 'COMP_SCI 110-0 or COMP_SCI 111-0 or GEN_ENG 205-1 or GEN_ENG 206-1.',\n",
              " 'COMP_SCI 211-0': 'COMP_SCI 111-0 or COMP_SCI 150-0.',\n",
              " 'COMP_SCI 212-0': '(EECS 110 or EECS 111) and Math 228-1 or 230-0.',\n",
              " 'COMP_SCI 213-0': 'COMP_SCI 211-0.',\n",
              " 'COMP_SCI 214-0': 'COMP_SCI 111 and (COMP_SCI 150 or COMP_SCI 211).',\n",
              " 'COMP_SCI 217-0': 'COMP_SCI 110-0 or COMP_SCI 111-0 or COMP_SCI 150-0 or COMP_SCI 211-0 or consent of instructor.',\n",
              " 'COMP_SCI 295-0': None,\n",
              " 'COMP_SCI 301-0': 'COMP_SCI 110-0, COMP_SCI 111-0, or consent of instructor.',\n",
              " 'COMP_SCI 310-0': 'COMP_SCI 213-0, COMP_SCI 214-0.',\n",
              " 'COMP_SCI 311-0': None,\n",
              " 'COMP_SCI 313-0': 'COMP_SCI 110-0.',\n",
              " 'COMP_SCI 314-0': None,\n",
              " 'COMP_SCI 315-0': 'consent of instructor (by application only).',\n",
              " 'COMP_SCI 321-0': 'COMP_SCI 111 and, COMP_SCI 211, and COMP_SCI 214 or Graduate standing.',\n",
              " 'COMP_SCI 322-0': 'COMP_SCI 213-0 or consent of instructor.',\n",
              " 'COMP_SCI 323-0': 'COMP_SCI 213-0.',\n",
              " 'COMP_SCI 325-1': 'COMP_SCI 110-0, COMP_SCI 111-0, or programming experience.',\n",
              " 'COMP_SCI 329-0': 'COMP_SCI 214-0 or Graduate Standing or Consent of instructor.',\n",
              " 'COMP_SCI 330-0': 'COMP_SCI 211-0 or Graduate standing or Consent of instructor.',\n",
              " 'COMP_SCI 331-0': 'COMP_SCI 150 or COMP_SCI 211 or Consent of Instructor.',\n",
              " 'COMP_SCI 333-0': 'COMP_SCI 214-0 or consent of instructor.',\n",
              " 'COMP_SCI 335-0': 'COMP_SCI 212-0 or consent of instructor.',\n",
              " 'COMP_SCI 336-0': 'COMP_SCI 111-0, COMP_SCI 212-0, or CS Graduate Standing or consent of instructor.',\n",
              " 'COMP_SCI 337-0': 'COMP_SCI 348-0 or consent of instructor.',\n",
              " 'COMP_SCI 338-0': None,\n",
              " 'COMP_SCI 339-0': 'COMP_SCI 214-0 and (COMP_SCI 213-0 or COMP_ENG 205-0) or CS Graduate Standing.',\n",
              " 'COMP_SCI 340-0': 'COMP_SCI 214-0 and (COMP_SCI 213-0 or COMP_ENG 205-0).',\n",
              " 'COMP_SCI 341-0': None,\n",
              " 'COMP_SCI 343-0': 'COMP_SCI 214-0 and COMP_SCI 213-0, or COMP_SCI 214-0 and COMP_ENG 205-0.',\n",
              " 'COMP_SCI 344-0': 'COMP_SCI 348-0 and COMP_SCI 325-1 or equivalent LISP experience.',\n",
              " 'COMP_SCI 345-0': 'COMP_SCI 213-0 and COMP_SCI 214-0.',\n",
              " 'COMP_SCI 347-0': 'COMP_SCI 371 or permission of instructor.',\n",
              " 'COMP_SCI 348-0': 'COMP_SCI 111 and COMP_SCI 214 or COMP_SCI 111 and CogSci major or CS Graduate Standing.',\n",
              " 'COMP_SCI 349-0': 'COMP_SCI grad standing OR (COMP_SCI 214 and (MATH 240-0 or GEN_ENG 205-1 or GEN_ENG 206-1) and (IEMS 201-0 or IEMS 303-0 or ELEC_ENG 302-0 or STAT 210-0 or MATH 310-1).',\n",
              " 'COMP_SCI 350-0': 'COMP_SCI 213-0 or equivalent or consent of instructor; COMP_SCI 340-0 highly recommended.',\n",
              " 'COMP_SCI 351-1': 'COMP_SCI 214-0 or Graduate standing.',\n",
              " 'COMP_SCI 351-2': 'COMP_SCI 214-0 and COMP_SCI 351-1 or Graduate standing.',\n",
              " 'COMP_SCI 352-0': 'COMP_SCI 211-0 and COMP_SCI 214-0.',\n",
              " 'COMP_SCI 354-0': 'COMP_SCI 211-0 and COMP_SCI 213-0 or COMP_SCI 211-0 and COMP_ENG 205-0.',\n",
              " 'COMP_SCI 355-0': None,\n",
              " 'COMP_SCI 367-0': None,\n",
              " 'COMP_SCI 370-0': 'COMP_SCI 214-0; 1 unit of COMP_SCI 322-0, COMP_SCI 343-0, COMP_SCI 348-0, or COMP_SCI 351-1, COMP_SCI 351-2.',\n",
              " 'COMP_SCI 371-0': 'COMP_SCI 348-0, COMP_SCI 325-1, or equivalent experience with artificial intelligence.',\n",
              " 'COMP_SCI 372-0': None,\n",
              " 'COMP_SCI 376-0': 'COMP_SCI 214-0.',\n",
              " 'COMP_SCI 377-0': 'COMP_SCI 214 and COMP_SCI 376-0.',\n",
              " 'COMP_SCI 393-0': 'COMP_SCI 211-0 and COMP_SCI 214-0.',\n",
              " 'COMP_SCI 394-0': 'Consent of instructor.',\n",
              " 'COMP_SCI 396-0': None,\n",
              " 'COMP_SCI 397-0': None,\n",
              " 'COMP_SCI 399-0': None}"
            ]
          },
          "execution_count": 330,
          "metadata": {},
          "output_type": "execute_result"
        }
      ],
      "source": [
        "courselist"
      ]
    },
    {
      "cell_type": "code",
      "execution_count": null,
      "metadata": {
        "id": "MXnpnrXFqA_F"
      },
      "outputs": [],
      "source": [
        "def remove_punctuation(text):\n",
        "    # Create a string of all punctuation symbols\n",
        "    punctuation_symbols = string.punctuation\n",
        "\n",
        "    # Create a translation table that maps each punctuation symbol to None\n",
        "    translator = str.maketrans('', '', punctuation_symbols)\n",
        "\n",
        "    # Use the translate() method to remove all punctuation symbols from the text\n",
        "    text_without_punctuation = text.translate(translator)\n",
        "\n",
        "    return text_without_punctuation"
      ]
    },
    {
      "cell_type": "code",
      "execution_count": null,
      "metadata": {
        "id": "h-wU3mNXo-d7"
      },
      "outputs": [],
      "source": [
        "def cipher(text):\n",
        "  text.replace(\"-\")"
      ]
    },
    {
      "cell_type": "code",
      "execution_count": null,
      "metadata": {
        "colab": {
          "base_uri": "https://localhost:8080/"
        },
        "id": "PzQ6P84w8fqv",
        "outputId": "6b4bb81b-ca81-4e3e-d95c-4eb6a5571c43"
      },
      "outputs": [
        {
          "name": "stdout",
          "output_type": "stream",
          "text": [
            "Looking in indexes: https://pypi.org/simple, https://us-python.pkg.dev/colab-wheels/public/simple/\n",
            "Requirement already satisfied: pyeda in /usr/local/lib/python3.9/dist-packages (0.28.0)\n"
          ]
        }
      ],
      "source": [
        "!pip install --upgrade pyeda"
      ]
    },
    {
      "cell_type": "code",
      "execution_count": null,
      "metadata": {
        "id": "dwl-pckun_Gv"
      },
      "outputs": [],
      "source": [
        "from pyeda.inter import expr, exprvar, Or\n",
        "\n",
        "input_string = \"A and K or F or (B or C) and D or E and F\"\n",
        "\n",
        "def text_to_bool(input_string):\n",
        "  if input_string == None:\n",
        "    return None\n",
        "  # Convert the input string to a Boolean expression\n",
        "  expr_string = input_string.replace(\"and\", \"&\").replace(\"or\", \"|\")\n",
        "  boolean_expr = expr(expr_string)\n",
        "\n",
        "  # Convert the Boolean expression to disjunctive normal form\n",
        "  dnf_expr = boolean_expr.to_dnf()\n",
        "\n",
        "  # Convert the DNF expression back to a string\n",
        "  dnf_string = str(dnf_expr).replace(\"&\", \"and\").replace(\"|\", \"or\")\n",
        "\n",
        "  # Print the DNF expression\n",
        "  return dnf_expr"
      ]
    },
    {
      "cell_type": "code",
      "execution_count": null,
      "metadata": {
        "id": "kHWhZV_EfvnH"
      },
      "outputs": [],
      "source": [
        "#split by \"and\" or \"or\"\n",
        "import re\n",
        "import string\n",
        "\n",
        "def bool_split(text):\n",
        "  if text == None:\n",
        "      return None\n",
        "  \n",
        "  text = text.split()\n",
        "  for i in range(len(text) - 1):\n",
        "    if \"_\" in text[i]:\n",
        "      text[i] = text[i] + \"_\" + text[i+1]\n",
        "      \n",
        "      text[i+1] = \"\"\n",
        "  \n",
        "  text = \" \".join(text)\n",
        "  #normalize text\n",
        "  text = text.replace(\",\", \" and\").replace(\".\", \"\").replace(\"and or\", \"or\").replace(\"-\", \"_\").strip().replace(\"  \", \" \").replace(\" \", \"_\")\n",
        "  text = text.replace(\"_or_\", \" or \").replace(\"_and_\", \" and \").replace(\"_AND_\", \" and \").replace(\"_OR_\", \" or \")\n",
        "  output_array = re.split(r'\\s+(and|or|OR|AND)\\s+', text)\n",
        "\n",
        "  return \" \".join((output_array))\n",
        "\n",
        "new_courselist = {}\n",
        "for i in courselist:\n",
        "  new_courselist[i.replace(\" \", \"_\").replace(\"-\", \"_\")] = (bool_split(courselist[i]))"
      ]
    },
    {
      "cell_type": "code",
      "execution_count": null,
      "metadata": {
        "colab": {
          "base_uri": "https://localhost:8080/"
        },
        "id": "BL_loLVdHaF3",
        "outputId": "7f18eb24-b11d-438a-da48-b1330505d893"
      },
      "outputs": [
        {
          "name": "stdout",
          "output_type": "stream",
          "text": [
            "{'COMP_SCI_101_0': None, 'COMP_SCI_110_0': None, 'COMP_SCI_111_0': None, 'COMP_SCI_130_0': None, 'COMP_SCI_150_0': 'COMP_SCI_110_0 or COMP_SCI_111_0 or GEN_ENG_205_1 or GEN_ENG_206_1', 'COMP_SCI_211_0': 'COMP_SCI_111_0 or COMP_SCI_150_0', 'COMP_SCI_212_0': '(EECS_110 or EECS_111) and Math_228_1 or 230_0', 'COMP_SCI_213_0': 'COMP_SCI_211_0', 'COMP_SCI_214_0': 'COMP_SCI_111 and (COMP_SCI_150 or COMP_SCI_211)', 'COMP_SCI_217_0': 'COMP_SCI_110_0 or COMP_SCI_111_0 or COMP_SCI_150_0 or COMP_SCI_211_0 or consent_of_instructor', 'COMP_SCI_295_0': None, 'COMP_SCI_301_0': 'COMP_SCI_110_0 and COMP_SCI_111_0_and or consent_of_instructor', 'COMP_SCI_310_0': 'COMP_SCI_213_0 and COMP_SCI_214_0', 'COMP_SCI_311_0': None, 'COMP_SCI_313_0': 'COMP_SCI_110_0', 'COMP_SCI_314_0': None, 'COMP_SCI_315_0': 'consent_of_instructor_(by_application_only)', 'COMP_SCI_321_0': 'COMP_SCI_111 and COMP_SCI_211 and COMP_SCI_214 or Graduate_standing', 'COMP_SCI_322_0': 'COMP_SCI_213_0 or consent_of_instructor', 'COMP_SCI_323_0': 'COMP_SCI_213_0', 'COMP_SCI_325_1': '(COMP_SCI_110_0 or COMP_SCI_111_0) and programming_experience', 'COMP_SCI_329_0': 'COMP_SCI_214_0 or Graduate_Standing or Consent_of_instructor', 'COMP_SCI_330_0': 'COMP_SCI_211_0 or Graduate_standing or Consent_of_instructor', 'COMP_SCI_331_0': 'COMP_SCI_150 or COMP_SCI_211 or Consent_of_Instructor', 'COMP_SCI_333_0': 'COMP_SCI_214_0 or consent_of_instructor', 'COMP_SCI_335_0': 'COMP_SCI_212_0 or consent_of_instructor', 'COMP_SCI_336_0': 'COMP_SCI_111_0 and COMP_SCI_212_0_and or CS_Graduate_Standing or consent_of_instructor', 'COMP_SCI_337_0': 'COMP_SCI_348_0 or consent_of_instructor', 'COMP_SCI_338_0': None, 'COMP_SCI_339_0': 'COMP_SCI_214_0 and (COMP_SCI_213_0 or COMP_ENG_205_0) or CS_Graduate_Standing', 'COMP_SCI_340_0': 'COMP_SCI_214_0 and (COMP_SCI_213_0 or COMP_ENG_205_0)', 'COMP_SCI_341_0': None, 'COMP_SCI_343_0': 'COMP_SCI_214_0 and COMP_SCI_213_0_and or COMP_SCI_214_0 and COMP_ENG_205_0', 'COMP_SCI_344_0': 'COMP_SCI_348_0 and COMP_SCI_325_1 or equivalent_LISP_experience', 'COMP_SCI_345_0': 'COMP_SCI_213_0 and COMP_SCI_214_0', 'COMP_SCI_347_0': 'COMP_SCI_371 or permission_of_instructor', 'COMP_SCI_348_0': 'COMP_SCI_111 and COMP_SCI_214 or COMP_SCI_111 and (CogSci_major or CS_Graduate_Standing)', 'COMP_SCI_349_0': 'COMP_SCI_grad_standing or COMP_SCI_214 and (MATH_240_0 or GEN_ENG_205_1 or GEN_ENG_206_1) and (IEMS_201_0 or IEMS_303_0 or ELEC_ENG_302_0 or STAT_210_0 or MATH_310_1)', 'COMP_SCI_350_0': '(COMP_SCI_213_0 or consent_of_instructor)', 'COMP_SCI_351_1': 'COMP_SCI_214_0 or Graduate_standing', 'COMP_SCI_351_2': 'COMP_SCI_214_0 and COMP_SCI_351_1 or Graduate_standing', 'COMP_SCI_352_0': 'COMP_SCI_211_0 and COMP_SCI_214_0', 'COMP_SCI_354_0': 'COMP_SCI_211_0 and COMP_SCI_213_0 or COMP_SCI_211_0 and COMP_ENG_205_0', 'COMP_SCI_355_0': None, 'COMP_SCI_367_0': None, 'COMP_SCI_370_0': 'COMP_SCI_214_0 and COMP_SCI_322_0 and COMP_SCI_343_0 and (COMP_SCI_348_0 or COMP_SCI_351_1) and COMP_SCI_351_2', 'COMP_SCI_371_0': 'COMP_SCI_348_0 and COMP_SCI_325_1 or AI_XP', 'COMP_SCI_372_0': None, 'COMP_SCI_376_0': 'COMP_SCI_214_0', 'COMP_SCI_377_0': 'COMP_SCI_214 and COMP_SCI_376_0', 'COMP_SCI_393_0': 'COMP_SCI_211_0 and COMP_SCI_214_0', 'COMP_SCI_394_0': 'Consent_of_instructor', 'COMP_SCI_396_0': None, 'COMP_SCI_397_0': None, 'COMP_SCI_399_0': None}\n"
          ]
        }
      ],
      "source": [
        "# #save to json\n",
        "# with open(\"my_dict.json\", \"w\") as f:\n",
        "#     json.dump(new_courselist, f)\n",
        "\n",
        "# read JSON file\n",
        "with open(\"my_dict.json\", \"r\") as f:\n",
        "    json_str = json.load(f)\n",
        "\n",
        "# print JSON string\n",
        "print(json_str)"
      ]
    },
    {
      "cell_type": "code",
      "execution_count": 348,
      "metadata": {
        "colab": {
          "base_uri": "https://localhost:8080/"
        },
        "id": "7n_PTYqYrPs5",
        "outputId": "d2c0c456-ecce-488f-f1cd-358fdd3ccf94"
      },
      "outputs": [
        {
          "name": "stdout",
          "output_type": "stream",
          "text": [
            "COMP_SCI_214_0 and (COMP_SCI_213_0 or COMP_ENG_205_0) or CS_Graduate_Standing\n"
          ]
        }
      ],
      "source": [
        "\n",
        "input_string = \"COMP_SCI_214_0 and (COMP_SCI_213_0 or COMP_ENG_205_0) or CS_Graduate_Standing\"\n",
        "print(input_string)\n",
        "\n",
        "def prereq_to_ast(input_string):\n",
        "  if input_string == None:\n",
        "    return None\n",
        "  from pyeda.inter import expr\n",
        "  # Convert the input string to a Boolean expression\n",
        "  expr_string = input_string.replace(\" and \", \"&\").replace(\" or \", \"|\")\n",
        "  boolean_expr = expr(expr_string)\n",
        "\n",
        "  # Convert the Boolean expression to disjunctive normal form\n",
        "  dnf_expr = boolean_expr.to_dnf()\n",
        "\n",
        "  # Convert the DNF expression back to a string\n",
        "  dnf_string = str(dnf_expr).replace(\"&\", \" and \").replace(\"|\", \" or \")\n",
        "\n",
        "  dnf_obj = expr(dnf_string)\n",
        "\n",
        "  from pyeda.boolalg import expr\n",
        "\n",
        "  def expr_to_ast(e):\n",
        "      if isinstance(e, expr.Variable):\n",
        "          return ('None', str(e))\n",
        "      elif isinstance(e, expr.Constant):\n",
        "          return ('const', bool(e))\n",
        "      elif isinstance(e, expr.Complement):\n",
        "          return ('not', expr_to_ast(e.x))\n",
        "      elif isinstance(e, expr.AndOp):\n",
        "          return ('and', *[expr_to_ast(x) for x in e.xs])\n",
        "      elif isinstance(e, expr.OrOp):\n",
        "          return ('or', *[expr_to_ast(x) for x in e.xs])\n",
        "      else:\n",
        "          raise ValueError(\"Unknown expression type: %s\" % type(e).__name__)\n",
        "\n",
        "  return expr_to_ast(dnf_obj)"
      ]
    },
    {
      "cell_type": "code",
      "execution_count": null,
      "metadata": {
        "id": "QUa3MN-hISGS"
      },
      "outputs": [],
      "source": [
        "def node_from_ast(t):\n",
        "  course = CourseNode()\n",
        "  if t[0] == 'None' or t[0] == None:\n",
        "    #print(t[1])\n",
        "    course = CourseNode(t[1], ConnectionType.NoConnection)\n",
        "  if t[0] == 'and':\n",
        "    sisters = [i[1] for i in t[1:]]\n",
        "    course =  CourseNode(sisters, ConnectionType.And)\n",
        "   # print(sisters)\n",
        "  if t[0] == 'or':\n",
        "    or_sisters = [i for i in t[1:]]\n",
        "   # print(or_sisters)\n",
        "    course = CourseNode([\n",
        "        CourseNode([j[1] for j in i[1:]], ConnectionType.And) for i in or_sisters\n",
        "    ], ConnectionType.Or)\n",
        "  return course"
      ]
    },
    {
      "cell_type": "code",
      "execution_count": 347,
      "metadata": {
        "colab": {
          "base_uri": "https://localhost:8080/"
        },
        "id": "v8WIhTHiPRNr",
        "outputId": "856e72d3-f6a7-4ff3-b826-e4ca4423bda4"
      },
      "outputs": [
        {
          "data": {
            "text/plain": [
              "('or',\n",
              " ('None', 'CS_Graduate_Standing'),\n",
              " ('and', ('None', 'COMP_SCI_214_0'), ('None', 'COMP_SCI_213_0')),\n",
              " ('and', ('None', 'COMP_SCI_214_0'), ('None', 'COMP_ENG_205_0')))"
            ]
          },
          "execution_count": 347,
          "metadata": {},
          "output_type": "execute_result"
        }
      ],
      "source": [
        "courses = {}\n",
        "for i in json_str:\n",
        "  try:\n",
        "    courses[i] = (prereq_to_ast(json_str[i]))\n",
        "    #print(i, prereq_to_ast(json_str[i]))\n",
        "  except:\n",
        "    pass\n",
        "\n",
        "prereq_to_ast(json_str[\"COMP_SCI_339_0\"])"
      ]
    },
    {
      "cell_type": "markdown",
      "metadata": {
        "id": "erUD8rc9fSzW"
      },
      "source": [
        "#Launch"
      ]
    },
    {
      "cell_type": "code",
      "execution_count": null,
      "metadata": {
        "id": "QEzFd5Mif1hW"
      },
      "outputs": [],
      "source": [
        "list_of_courses = ['COMP_SCI_101_0',\n",
        " 'COMP_SCI_110_0',\n",
        " 'COMP_SCI_111_0',\n",
        " 'COMP_SCI_130_0',\n",
        " 'COMP_SCI_150_0',\n",
        " 'COMP_SCI_211_0',\n",
        " 'COMP_SCI_213_0',\n",
        " 'COMP_SCI_214_0',\n",
        " 'COMP_SCI_217_0',\n",
        " 'COMP_SCI_295_0',\n",
        " 'COMP_SCI_301_0',\n",
        " 'COMP_SCI_310_0',\n",
        " 'COMP_SCI_311_0',\n",
        " 'COMP_SCI_313_0',\n",
        " 'COMP_SCI_314_0',\n",
        " 'COMP_SCI_321_0',\n",
        " 'COMP_SCI_322_0',\n",
        " 'COMP_SCI_323_0',\n",
        " 'COMP_SCI_325_1',\n",
        " 'COMP_SCI_329_0',\n",
        " 'COMP_SCI_330_0',\n",
        " 'COMP_SCI_331_0',\n",
        " 'COMP_SCI_333_0',\n",
        " 'COMP_SCI_335_0',\n",
        " 'COMP_SCI_336_0',\n",
        " 'COMP_SCI_337_0',\n",
        " 'COMP_SCI_338_0',\n",
        " 'COMP_SCI_339_0',\n",
        " 'COMP_SCI_340_0',\n",
        " 'COMP_SCI_341_0',\n",
        " 'COMP_SCI_343_0',\n",
        " 'COMP_SCI_344_0',\n",
        " 'COMP_SCI_345_0',\n",
        " 'COMP_SCI_347_0',\n",
        " 'COMP_SCI_348_0',\n",
        " 'COMP_SCI_349_0',\n",
        " 'COMP_SCI_350_0',\n",
        " 'COMP_SCI_351_1',\n",
        " 'COMP_SCI_351_2',\n",
        " 'COMP_SCI_352_0',\n",
        " 'COMP_SCI_354_0',\n",
        " 'COMP_SCI_355_0',\n",
        " 'COMP_SCI_367_0',\n",
        " 'COMP_SCI_370_0',\n",
        " 'COMP_SCI_371_0',\n",
        " 'COMP_SCI_372_0',\n",
        " 'COMP_SCI_376_0',\n",
        " 'COMP_SCI_377_0',\n",
        " 'COMP_SCI_393_0',\n",
        " 'COMP_SCI_394_0',\n",
        " 'COMP_SCI_396_0',\n",
        " 'COMP_SCI_397_0',\n",
        " 'COMP_SCI_399_0']"
      ]
    },
    {
      "cell_type": "code",
      "execution_count": 353,
      "metadata": {
        "colab": {
          "base_uri": "https://localhost:8080/"
        },
        "id": "qm9WgenFgHxP",
        "outputId": "661e32bf-2c72-4016-f242-d937bcbdb496"
      },
      "outputs": [
        {
          "data": {
            "text/plain": [
              "('or',\n",
              " ('None', 'CS_Graduate_Standing'),\n",
              " ('and', ('None', 'COMP_SCI_214_0'), ('None', 'COMP_SCI_213_0')),\n",
              " ('and', ('None', 'COMP_SCI_214_0'), ('None', 'COMP_ENG_205_0')))"
            ]
          },
          "execution_count": 353,
          "metadata": {},
          "output_type": "execute_result"
        }
      ],
      "source": [
        "#CHECK prereqs\n",
        "prereq_to_ast(json_str[\"COMP_SCI_339_0\"])"
      ]
    }
  ],
  "metadata": {
    "colab": {
      "provenance": []
    },
    "kernelspec": {
      "display_name": "Python 3",
      "name": "python3"
    },
    "language_info": {
      "name": "python",
      "version": "3.11.3"
    }
  },
  "nbformat": 4,
  "nbformat_minor": 0
}
